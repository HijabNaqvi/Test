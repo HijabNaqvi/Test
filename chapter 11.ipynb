{
 "cells": [
  {
   "cell_type": "markdown",
   "id": "29e6d9b6",
   "metadata": {},
   "source": [
    "# **Classes/ Objects**\n",
    "Python is an object oriented programming language which means that everything in it is an object with its properties and methods.\n",
    "\n",
    "In Python, each data type is an object that has been instantiated earlier by some class.\n",
    "\n",
    "If we want to create a data type of our own, we'll make a class for it, and will define its attributes."
   ]
  },
  {
   "cell_type": "code",
   "execution_count": 1,
   "id": "9a3081aa",
   "metadata": {},
   "outputs": [
    {
     "name": "stdout",
     "output_type": "stream",
     "text": [
      "Ali\n"
     ]
    }
   ],
   "source": [
    "class Person:    # a class named 'Person' is created.\n",
    "  name = \"Ali\"    # class 'Person' has a property 'name'.\n",
    "\n",
    "p1 = Person()   \t# an object 'p1' of class is created.\n",
    "print(p1.name)"
   ]
  },
  {
   "cell_type": "markdown",
   "id": "d6960273",
   "metadata": {},
   "source": [
    "# Object Methods\n",
    "\n",
    "A function inside a class that is related to an object is called Method.\n",
    "\n",
    "\n",
    "---\n",
    "*Important*: Self is the mandatory first parameter of a method which can also be named anything (but using 'self' is a convention).\n",
    "\n",
    "The self parameter is a reference to the current instance of the class, and is used to access variables that belongs to the class.\n"
   ]
  },
  {
   "cell_type": "code",
   "execution_count": 2,
   "id": "34a4181e",
   "metadata": {},
   "outputs": [
    {
     "name": "stdout",
     "output_type": "stream",
     "text": [
      "The sum is: 4\n"
     ]
    }
   ],
   "source": [
    "class Sum:\n",
    "\n",
    "  def add(self, num1, num2):\n",
    "    result = num1+num2\n",
    "    print(\"The sum is:\", result)\n",
    "  def sub(self, num1, num2):\n",
    "    result = num1-num2\n",
    "    print(\"The sum is:\", result)\n",
    "\n",
    "\n",
    "obj1 = Sum()\n",
    "obj1.sub(9,5)"
   ]
  },
  {
   "cell_type": "code",
   "execution_count": 3,
   "id": "7ae2016a",
   "metadata": {},
   "outputs": [
    {
     "name": "stdout",
     "output_type": "stream",
     "text": [
      "The area of this rectangle is: 40\n",
      "The area of this rectangle is: 42\n"
     ]
    }
   ],
   "source": [
    "class Area:\n",
    "  def calc_area(self, x, y):\n",
    "    print(\"The area of this rectangle is:\", x*y)\n",
    "\n",
    "rectangle1 = Area()\n",
    "rectangle1.width = 5\n",
    "rectangle1.length = 8\n",
    "\n",
    "rectangle2 = Area()\n",
    "rectangle2.width = 6\n",
    "rectangle2.length = 7\n",
    "\n",
    "rectangle1.calc_area(rectangle1.width, rectangle1.length)\n",
    "rectangle2.calc_area(rectangle2.width, rectangle2.length)"
   ]
  },
  {
   "cell_type": "markdown",
   "id": "e016b7c1",
   "metadata": {},
   "source": [
    "# Constructor\n",
    "\n",
    "`__init__` method is used as a constructor in Python. It is always executed when the class is being initiated.\n",
    "\n",
    "Use the __init__() function to assign values to object properties, or other operations that are necessary to do when the object is being created.\n",
    "\n"
   ]
  },
  {
   "cell_type": "code",
   "execution_count": 4,
   "id": "2998ef8b",
   "metadata": {},
   "outputs": [
    {
     "name": "stdout",
     "output_type": "stream",
     "text": [
      "I'm executed!\n"
     ]
    }
   ],
   "source": [
    "class Sum:\n",
    "  def __init__(self):\n",
    "    print(\"I'm executed!\")\n",
    "\n",
    "obj1 = Sum()"
   ]
  },
  {
   "cell_type": "code",
   "execution_count": 5,
   "id": "eae6e386",
   "metadata": {},
   "outputs": [
    {
     "name": "stdout",
     "output_type": "stream",
     "text": [
      "The per annum salary of Ali is: 600000\n"
     ]
    },
    {
     "ename": "AttributeError",
     "evalue": "'Person' object has no attribute 'name'",
     "output_type": "error",
     "traceback": [
      "\u001b[1;31m---------------------------------------------------------------------------\u001b[0m",
      "\u001b[1;31mAttributeError\u001b[0m                            Traceback (most recent call last)",
      "Cell \u001b[1;32mIn[5], line 10\u001b[0m\n\u001b[0;32m      7\u001b[0m person1 \u001b[38;5;241m=\u001b[39m Person(\u001b[38;5;124m\"\u001b[39m\u001b[38;5;124mAli\u001b[39m\u001b[38;5;124m\"\u001b[39m, \u001b[38;5;241m50000\u001b[39m)\n\u001b[0;32m      8\u001b[0m \u001b[38;5;66;03m# person2 = Person(\"Hassan\", 35000)\u001b[39;00m\n\u001b[1;32m---> 10\u001b[0m \u001b[38;5;28mprint\u001b[39m(person1\u001b[38;5;241m.\u001b[39mname)\n\u001b[0;32m     11\u001b[0m \u001b[38;5;28mprint\u001b[39m(person1\u001b[38;5;241m.\u001b[39msalary)\n",
      "\u001b[1;31mAttributeError\u001b[0m: 'Person' object has no attribute 'name'"
     ]
    }
   ],
   "source": [
    "class Person:\n",
    "  def __init__(self,name, salary):\n",
    "    # name = name\n",
    "    # salary = salary\n",
    "    print(f\"The per annum salary of {name} is:\", salary*12)\n",
    "\n",
    "person1 = Person(\"Ali\", 50000)\n",
    "# person2 = Person(\"Hassan\", 35000)\n",
    "\n",
    "print(person1.name)\n",
    "print(person1.salary)\n",
    "\n",
    "#self.name can be used in this class to access the name of the object created."
   ]
  },
  {
   "cell_type": "code",
   "execution_count": null,
   "id": "ecd8255a",
   "metadata": {},
   "outputs": [],
   "source": [
    "class MyClass:\n",
    "    def __init__(self):\n",
    "        print(\"Hello\")\n",
    "\n",
    "    def __del__(self):\n",
    "        print(\"MyClass.__del__()\")\n",
    "\n",
    "\n",
    "obj = MyClass()\n",
    "print(\"obj:\", obj)\n",
    "del obj\n",
    "# print(\"obj:\", obj)\n"
   ]
  }
 ],
 "metadata": {
  "kernelspec": {
   "display_name": "Python 3 (ipykernel)",
   "language": "python",
   "name": "python3"
  },
  "language_info": {
   "codemirror_mode": {
    "name": "ipython",
    "version": 3
   },
   "file_extension": ".py",
   "mimetype": "text/x-python",
   "name": "python",
   "nbconvert_exporter": "python",
   "pygments_lexer": "ipython3",
   "version": "3.11.4"
  }
 },
 "nbformat": 4,
 "nbformat_minor": 5
}
