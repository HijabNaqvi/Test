{
 "cells": [
  {
   "cell_type": "markdown",
   "id": "41065604",
   "metadata": {},
   "source": [
    "# **Conditions:**\n",
    "\n",
    "Conditions are used in program when we want to execute a specific portion of that on the basis of the incoming input.\n",
    "\n",
    "The statement next to a condition will only excecute if it's true otherwise it'll be ignored by the interpretor.\n",
    "\n",
    "**Keywords:**\n",
    "\n",
    "if\n",
    "\n",
    "elif\n",
    "\n",
    "else\n"
   ]
  },
  {
   "cell_type": "code",
   "execution_count": 2,
   "id": "0f6c3adf",
   "metadata": {},
   "outputs": [
    {
     "name": "stdout",
     "output_type": "stream",
     "text": [
      "Your statement is false\n"
     ]
    }
   ],
   "source": [
    "a = 3\n",
    "b = 5\n",
    "if a > b:\n",
    "    print(\"Hello there!\")\n",
    "else:\n",
    "  print(\"Your statement is false\")"
   ]
  },
  {
   "cell_type": "code",
   "execution_count": 3,
   "id": "9adc8be4",
   "metadata": {},
   "outputs": [
    {
     "name": "stdout",
     "output_type": "stream",
     "text": [
      "Enter your marks: 99\n",
      "Your grade is: A\n"
     ]
    },
    {
     "data": {
      "text/plain": [
       "str"
      ]
     },
     "execution_count": 3,
     "metadata": {},
     "output_type": "execute_result"
    }
   ],
   "source": [
    "# Grading System using conditions\n",
    "marks = int(input(\"Enter your marks: \"))\n",
    "if marks >= 90:\n",
    "  grade = \"A\"\n",
    "elif marks >= 70:\n",
    "  grade = \"B\"\n",
    "elif marks >= 50:\n",
    "  grade = \"C\"\n",
    "elif marks >= 40:\n",
    "  grade = \"D\"\n",
    "else:\n",
    "  grade = \"F\"\n",
    "print(\"Your grade is:\", grade)\n",
    "type(grade)"
   ]
  },
  {
   "cell_type": "markdown",
   "id": "b98dde55",
   "metadata": {},
   "source": [
    "# **Operators**\n",
    "\n",
    "Operators are used to perform operations on variables and values.\n",
    "Python divides the operators in the following groups:\n",
    "*   Arithmetic operators\n",
    "\n",
    "*   Assignment operators\n",
    "\n",
    "*   Comparison operators\n",
    "\n",
    "*   Logical operators\n",
    "\n",
    "*   Membership operators\n",
    "\n"
   ]
  },
  {
   "cell_type": "code",
   "execution_count": 4,
   "id": "4cb4b242",
   "metadata": {},
   "outputs": [
    {
     "name": "stdout",
     "output_type": "stream",
     "text": [
      "1\n",
      "<class 'int'>\n"
     ]
    }
   ],
   "source": [
    "#Floor Division (always gives integer)\n",
    "x = 9\n",
    "y = 5\n",
    "z = x//y\n",
    "print(z)\n",
    "print(type(z))"
   ]
  },
  {
   "cell_type": "code",
   "execution_count": 6,
   "id": "64264f4c",
   "metadata": {},
   "outputs": [
    {
     "name": "stdout",
     "output_type": "stream",
     "text": [
      "22\n"
     ]
    }
   ],
   "source": [
    "# Operator Precedence\n",
    "print(12 + 5 * (4 - 2))\n"
   ]
  },
  {
   "cell_type": "code",
   "execution_count": 7,
   "id": "07565cc9",
   "metadata": {},
   "outputs": [
    {
     "name": "stdout",
     "output_type": "stream",
     "text": [
      "True\n",
      "False\n"
     ]
    }
   ],
   "source": [
    "a = 20\n",
    "b = 10\n",
    "c = 10\n",
    "d = 30\n",
    "if a > b:\n",
    "    print(True)\n",
    "if c < d :\n",
    "  print(False)"
   ]
  },
  {
   "cell_type": "code",
   "execution_count": 8,
   "id": "fbe68fc7",
   "metadata": {},
   "outputs": [
    {
     "name": "stdout",
     "output_type": "stream",
     "text": [
      "True\n",
      "False\n",
      "True\n"
     ]
    }
   ],
   "source": [
    "x = 9\n",
    "#print(x < 11 and  x < 9)\n",
    "print(x < 5 or x < 10)\n",
    "print(not (x < 5 or x < 10))\n",
    "print(not x > 10)"
   ]
  },
  {
   "cell_type": "code",
   "execution_count": 9,
   "id": "583ca4e0",
   "metadata": {},
   "outputs": [
    {
     "name": "stdout",
     "output_type": "stream",
     "text": [
      "False\n",
      "False\n",
      "False\n"
     ]
    }
   ],
   "source": [
    "var1 = \"Python for Beginners\"\n",
    "print(\"p\" in var1)\n",
    "var2 = [\"orange\", 5, \"3.5\"]\n",
    "print(\"orange\" not in var2)\n",
    "\n",
    "print(\"O\" in \"iCodeGuru\")"
   ]
  },
  {
   "cell_type": "code",
   "execution_count": null,
   "id": "2030842c",
   "metadata": {},
   "outputs": [],
   "source": [
    "a = 10\n",
    "b = \"10\"\n",
    "#a = 11\n",
    "print(a is b)\n",
    "print(id(a))\n",
    "print(id(b))"
   ]
  }
 ],
 "metadata": {
  "kernelspec": {
   "display_name": "Python 3 (ipykernel)",
   "language": "python",
   "name": "python3"
  },
  "language_info": {
   "codemirror_mode": {
    "name": "ipython",
    "version": 3
   },
   "file_extension": ".py",
   "mimetype": "text/x-python",
   "name": "python",
   "nbconvert_exporter": "python",
   "pygments_lexer": "ipython3",
   "version": "3.11.4"
  }
 },
 "nbformat": 4,
 "nbformat_minor": 5
}
