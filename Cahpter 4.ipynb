{
 "cells": [
  {
   "cell_type": "markdown",
   "id": "84ba597a",
   "metadata": {},
   "source": [
    "**Functions**\n",
    "\n",
    "A function is a block of code which only runs when it is called.\n",
    "\n",
    "You can pass data, known as parameters, into a function.\n",
    "\n",
    "A function can return data as a result."
   ]
  },
  {
   "cell_type": "code",
   "execution_count": 1,
   "id": "f5c628f9",
   "metadata": {},
   "outputs": [
    {
     "name": "stdout",
     "output_type": "stream",
     "text": [
      "Hello World from inside of a function.\n"
     ]
    }
   ],
   "source": [
    "def my_func():    #creating a function\n",
    "  print(\"Hello World from inside of a function.\")    #body of the function\n",
    "\n",
    "my_func()   #function call"
   ]
  },
  {
   "cell_type": "markdown",
   "id": "69d84efa",
   "metadata": {},
   "source": [
    "# **Arguments**\n",
    "\n",
    "Information can be passed into functions as arguments.\n",
    "\n",
    "Arguments are specified after the function name, inside the parentheses. You can add as many arguments as you want, just separate them with a comma.\n"
   ]
  },
  {
   "cell_type": "code",
   "execution_count": 2,
   "id": "caabae1f",
   "metadata": {},
   "outputs": [
    {
     "name": "stdout",
     "output_type": "stream",
     "text": [
      "Hello Pakistan\n",
      "Hello India\n",
      "Hello America\n"
     ]
    }
   ],
   "source": [
    "def my_func(a):   # a is \"Parameter\"\n",
    "  print(\"Hello\", a)\n",
    "\n",
    "my_func(\"Pakistan\")\n",
    "my_func(\"India\")\n",
    "my_func(\"America\")"
   ]
  },
  {
   "cell_type": "markdown",
   "id": "087df563",
   "metadata": {},
   "source": [
    "# **Parameters vs Arguments**\n",
    "\n",
    "A parameter is the variable listed inside the parentheses in the function definition.\n",
    "\n",
    "An argument is the value that is sent to the function when it is called.\n",
    "\n",
    "> By default, a function must be called with the correct number of arguments. Meaning that if your function expects 2 arguments, you have to call the function with 2 arguments, not more, and not less."
   ]
  },
  {
   "cell_type": "code",
   "execution_count": 4,
   "id": "6bc4f1b5",
   "metadata": {},
   "outputs": [
    {
     "name": "stdout",
     "output_type": "stream",
     "text": [
      "I'm Hijab Naqvi .\n"
     ]
    }
   ],
   "source": [
    "def name(first, last):\n",
    "  print(\"I'm\", first, last, \".\")\n",
    "\n",
    "name(\"Hijab\", \"Naqvi\")"
   ]
  },
  {
   "cell_type": "markdown",
   "id": "b0003e31",
   "metadata": {},
   "source": [
    "# Return Values\n",
    "\n",
    "Use print when you want to show a value to a human. return is a keyword. When a return statement is reached, Python will stop the execution of the current function, sending a value out to where the function was called. Use return when you want to send a value from one point in your code to another."
   ]
  },
  {
   "cell_type": "code",
   "execution_count": null,
   "id": "4cd824cf",
   "metadata": {},
   "outputs": [],
   "source": [
    "def my_function(x):\n",
    "  return 5 * x\n",
    "\n",
    "\n",
    "a = my_function(5) #a = 25\n",
    "# a = my_function(3)\n",
    "# print(a)\n",
    "\n",
    "# print(my_function(5))\n",
    "\n",
    "# if my_function(2) > 10:\n",
    "#   print(\"Product is greater\")\n",
    "# else:\n",
    "#   print(\"Product is Lesser\")\n"
   ]
  }
 ],
 "metadata": {
  "kernelspec": {
   "display_name": "Python 3 (ipykernel)",
   "language": "python",
   "name": "python3"
  },
  "language_info": {
   "codemirror_mode": {
    "name": "ipython",
    "version": 3
   },
   "file_extension": ".py",
   "mimetype": "text/x-python",
   "name": "python",
   "nbconvert_exporter": "python",
   "pygments_lexer": "ipython3",
   "version": "3.11.4"
  }
 },
 "nbformat": 4,
 "nbformat_minor": 5
}
