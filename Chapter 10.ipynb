{
 "cells": [
  {
   "cell_type": "markdown",
   "id": "8b48f90c",
   "metadata": {},
   "source": [
    "# **Tuple**\n",
    "\n",
    "Tuples are used to store multiple items in a single variable.\n",
    "\n",
    "A tuple is a collection which is ordered and unchangeable.\n",
    "\n",
    "Tuples are written with round brackets."
   ]
  },
  {
   "cell_type": "code",
   "execution_count": 1,
   "id": "85fce5ee",
   "metadata": {},
   "outputs": [
    {
     "name": "stdout",
     "output_type": "stream",
     "text": [
      "('Pakistan', 'Nepal', 5, 8.9, 'Sudan')\n",
      "<class 'tuple'>\n",
      "<class 'tuple'>\n",
      "Nepal\n",
      "5\n"
     ]
    }
   ],
   "source": [
    "T1 = (\"Pakistan\", \"Nepal\", 5, 8.9, \"Sudan\")\n",
    "print(T1)\n",
    "print(type(T1))\n",
    "\n",
    "T2 = (\"India\",)\n",
    "print(type(T2))\n",
    "print(T1[1])\n",
    "print(len(T1))"
   ]
  },
  {
   "cell_type": "code",
   "execution_count": 2,
   "id": "1a21cffb",
   "metadata": {},
   "outputs": [
    {
     "name": "stdout",
     "output_type": "stream",
     "text": [
      "('Korea', 55, 'Sudan')\n"
     ]
    }
   ],
   "source": [
    "T1 = (\"Pakistan\", \"Nepal\", 5, 8.9, \"Sudan\", 55, \"Korea\", \"09\")\n",
    "#print(T1[-2])\n",
    "\n",
    "print(T1[-2:-5:-1])"
   ]
  },
  {
   "cell_type": "code",
   "execution_count": 3,
   "id": "32165331",
   "metadata": {},
   "outputs": [
    {
     "name": "stdout",
     "output_type": "stream",
     "text": [
      "('Pakistan', 'Nepal', 5, 8.9, 'Sudan', 55, 'Korea', '09', 'Indonesia')\n"
     ]
    }
   ],
   "source": [
    "# Method 1 to add items in a tuple\n",
    "T1 = (\"Pakistan\", \"Nepal\", 5, 8.9, \"Sudan\", 55, \"Korea\", \"09\")\n",
    "x = list(T1)\n",
    "x.append(\"Indonesia\")\n",
    "T1 = tuple(x)\n",
    "print(T1)\n",
    "\n",
    "\n"
   ]
  },
  {
   "cell_type": "code",
   "execution_count": 4,
   "id": "5f4e3185",
   "metadata": {},
   "outputs": [
    {
     "name": "stdout",
     "output_type": "stream",
     "text": [
      "('Pakistan', 'Nepal', 5, 8.9, 'Sudan', 55, 'Korea')\n"
     ]
    }
   ],
   "source": [
    "# To remove items from tuple\n",
    "T1 = (\"Pakistan\", \"Nepal\", 5, 8.9, \"Sudan\", 55, \"Korea\", \"09\")\n",
    "x = list(T1)\n",
    "x.pop()\n",
    "T1 = tuple(x)\n",
    "print(T1)"
   ]
  },
  {
   "cell_type": "code",
   "execution_count": 5,
   "id": "e20d2d5d",
   "metadata": {},
   "outputs": [
    {
     "name": "stdout",
     "output_type": "stream",
     "text": [
      "Pakistan\n",
      "Nepal\n",
      "(5, 6)\n",
      "8.9\n",
      "<class 'tuple'>\n",
      "<class 'tuple'>\n"
     ]
    }
   ],
   "source": [
    "T1 = (\"Pakistan\", \"Nepal\", (5,6), 8.9)\n",
    "var1, var2, var3, var4 = T1\n",
    "print(var1)\n",
    "print(var2)\n",
    "print(var3)\n",
    "print(var4)\n",
    "print(type(var3))\n",
    "print(type(T1))"
   ]
  },
  {
   "cell_type": "code",
   "execution_count": 6,
   "id": "522becf5",
   "metadata": {},
   "outputs": [
    {
     "name": "stdout",
     "output_type": "stream",
     "text": [
      "Pakistan\n",
      "Nepal\n",
      "[5, 8.9, 'Sudan', 55]\n",
      "Korea\n",
      "09\n"
     ]
    }
   ],
   "source": [
    "T1 = (\"Pakistan\", \"Nepal\", 5, 8.9, \"Sudan\", 55, \"Korea\", \"09\")\n",
    "var1, var2, *var3, var4, var5 = T1\n",
    "print(var1)\n",
    "print(var2)\n",
    "print(var3)\n",
    "print(var4)\n",
    "print(var5)"
   ]
  },
  {
   "cell_type": "code",
   "execution_count": 7,
   "id": "c6b22ebe",
   "metadata": {},
   "outputs": [
    {
     "name": "stdout",
     "output_type": "stream",
     "text": [
      "(3, 5, 7, 'P', 'A', 'K', 2, 4, 6)\n",
      "(3, 5, 7, 2, 4, 6)\n",
      "(3, 5, 7, 2, 4, 6, 2, 4, 6)\n"
     ]
    }
   ],
   "source": [
    "join1 = (3, 5, 7)\n",
    "join2 = (\"P\", \"A\", \"K\")\n",
    "join3 = (2, 4, 6)\n",
    "print(join1 + join2 + join3)\n",
    "print(join1+join3)\n",
    "join1 += join3\n",
    "join1 = join1 + join3\n",
    "print(join1)"
   ]
  },
  {
   "cell_type": "markdown",
   "id": "7128c631",
   "metadata": {},
   "source": [
    "# **Tuple Methods**\n",
    "\n",
    "Python has two built-in methods for tuple.\n",
    "\n",
    "* `count()` method\n",
    "\n",
    "* `index()` method"
   ]
  },
  {
   "cell_type": "code",
   "execution_count": null,
   "id": "4cc56c83",
   "metadata": {},
   "outputs": [],
   "source": [
    "T1 = (\"Pakistan\", 5,\"Nepal\", 5, 8.9, \"Sudan\", 5, \"Korea\", \"09\", \"Sudan\")\n",
    "\n",
    "# count() method\n",
    "print(T1.count(\"Sudan\"))\n",
    "\n",
    "#index() method\n",
    "print(T1.index(\"Sudan\"))"
   ]
  }
 ],
 "metadata": {
  "kernelspec": {
   "display_name": "Python 3 (ipykernel)",
   "language": "python",
   "name": "python3"
  },
  "language_info": {
   "codemirror_mode": {
    "name": "ipython",
    "version": 3
   },
   "file_extension": ".py",
   "mimetype": "text/x-python",
   "name": "python",
   "nbconvert_exporter": "python",
   "pygments_lexer": "ipython3",
   "version": "3.11.4"
  }
 },
 "nbformat": 4,
 "nbformat_minor": 5
}
