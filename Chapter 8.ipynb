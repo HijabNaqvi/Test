{
 "cells": [
  {
   "cell_type": "markdown",
   "id": "a98b9b35",
   "metadata": {},
   "source": [
    "# **List**\n",
    "\n",
    "Lists are used to store multiple items in a single variable.\n",
    "\n",
    "List items are ordered, changable, allow duplicate values.\n",
    "\n",
    "List items can be of any data type."
   ]
  },
  {
   "cell_type": "code",
   "execution_count": 1,
   "id": "09745710",
   "metadata": {},
   "outputs": [
    {
     "name": "stdout",
     "output_type": "stream",
     "text": [
      "['cool', 5, ' ', 'table', 4.3, True, 'cool']\n",
      "<class 'list'>\n"
     ]
    }
   ],
   "source": [
    "list1 = [\"cool\", 5, \" \" ,\"table\", 4.3, True, \"cool\"]\n",
    "print(list1)\n",
    "print(type(list1))\n"
   ]
  },
  {
   "cell_type": "code",
   "execution_count": 2,
   "id": "3f989e52",
   "metadata": {},
   "outputs": [
    {
     "name": "stdout",
     "output_type": "stream",
     "text": [
      "7\n"
     ]
    }
   ],
   "source": [
    "print(len(list1))   #len()"
   ]
  },
  {
   "cell_type": "code",
   "execution_count": 3,
   "id": "c4cee29c",
   "metadata": {},
   "outputs": [
    {
     "name": "stdout",
     "output_type": "stream",
     "text": [
      "4.3\n",
      "['cool']\n"
     ]
    }
   ],
   "source": [
    "list1 = [\"cool\", 5, \"table\", 4.3, True]\n",
    "print(list1[3])\n",
    "\n",
    "# using -ve index\n",
    "# print(list1[-1])\n",
    "\n",
    "#range of items\n",
    "print(list1[0::-1])\n",
    "\n",
    "# #range of -ve indexes\n",
    "#print(list1[-2:-4:1])"
   ]
  },
  {
   "cell_type": "code",
   "execution_count": 4,
   "id": "848acc37",
   "metadata": {},
   "outputs": [
    {
     "name": "stdout",
     "output_type": "stream",
     "text": [
      "4\n",
      "['summer', 'winter', 'spring', 'autumn', ['rainy season', 'Python']]\n",
      "5\n",
      "['cool', 5, 'Add in it', 'table', 4.3, True]\n",
      "['summer', 'winter', 'spring', 'autumn', ['rainy season', 'Python'], 'rainy season', 'Python', 90, 'abc']\n"
     ]
    }
   ],
   "source": [
    "list1 = [\"cool\", 5, \"table\", 4.3, True]\n",
    "list2 = [\"summer\", \"winter\", \"spring\", \"autumn\"]\n",
    "print(len(list2))\n",
    "#To add an item to the end of the list, use the append() method\n",
    "list2.append([\"rainy season\",\"Python\"])\n",
    "print(list2)\n",
    "print(len(list2))\n",
    "#To insert a list item at a specified index, use the insert() method\n",
    "list1.insert(2, \"Add in it\")\n",
    "print(list1)\n",
    "\n",
    "# #To append elements from another list to the current list, use the extend() method.\n",
    "#list3 = [1, 2, 3, 4, 5]\n",
    "list2.extend([\"rainy season\", \"Python\", 90 , \"abc\"])\n",
    "print(list2)"
   ]
  },
  {
   "cell_type": "code",
   "execution_count": 5,
   "id": "999ce041",
   "metadata": {},
   "outputs": [],
   "source": [
    "#The remove() method removes the specified item\n",
    "list2 = [\"summer\", \"winter\", \"spring\", \"autumn\", [\"sublist\"]]\n",
    "#list2.remove(\"winter\")\n",
    "#print(list2)\n",
    "\n",
    "#The pop() method removes the specified index.\n",
    "#print(list2.pop(0))\n",
    "#print(list2)\n",
    "#list2.pop(-2) #because last index is -1\n",
    "#print(list2)\n",
    "\n",
    "# The del() keyword\n",
    "del (list2)\n",
    "#print(list2)\n",
    "\n",
    "# #The clear() method empties the list. The list still remains, but it has no content\n",
    "#list2.clear(1) if we can print this then what happen??\n",
    "#list2.clear()\n",
    "#print(list2)"
   ]
  },
  {
   "cell_type": "code",
   "execution_count": 6,
   "id": "e37aa654",
   "metadata": {},
   "outputs": [
    {
     "name": "stdout",
     "output_type": "stream",
     "text": [
      "[1, 1, 2, 2, 3, 8, 9]\n",
      "[9, 8, 3, 2, 2, 1, 1]\n",
      "['6.0', '8', 'apple', 'winter']\n"
     ]
    }
   ],
   "source": [
    "list2 = [1,2,2,8,3,9,1]\n",
    "list2.sort()\n",
    "print(list2)\n",
    "# for reverse\n",
    "list2.sort(reverse = True)\n",
    "print(list2)\n",
    "list4 = [\"winter\", \"8\", \"apple\", \"6.0\"]    # float,integer,string\n",
    "list4.sort()\n",
    "print(list4)\n",
    "\n"
   ]
  },
  {
   "cell_type": "code",
   "execution_count": 7,
   "id": "3d44cfb9",
   "metadata": {},
   "outputs": [
    {
     "name": "stdout",
     "output_type": "stream",
     "text": [
      "2297672883904\n",
      "['apple', 'Banana', 'orange', 'Apricot', 'Hello']\n",
      "['apple', 'Banana', 'orange', 'Apricot', 'Hello']\n",
      "['apple', 'Banana', 'orange', 'Apricot', 'Hello']\n"
     ]
    }
   ],
   "source": [
    "list5 = [\"apple\", \"Banana\", \"orange\", \"Apricot\"]\n",
    "print(id(list5))\n",
    "list5.append(\"Hello\")\n",
    "print(list5)\n",
    "copy1 = list5.copy()\n",
    "print(copy1)\n",
    "copy2 = list(list5)\n",
    "print(copy2)\n",
    "#print(id(list5))\n",
    "#print(id(copy2))"
   ]
  },
  {
   "cell_type": "code",
   "execution_count": 8,
   "id": "a8280cd1",
   "metadata": {},
   "outputs": [
    {
     "name": "stdout",
     "output_type": "stream",
     "text": [
      "['apple', '5', 'Winter', '4.0', 'apple', 'Banana', 'orange', 'Apricot']\n",
      "['apple', 'Banana', 'orange', 'Apricot', 'apple', '5', 'Winter', '4.0']\n"
     ]
    }
   ],
   "source": [
    "#Concatenating through + operator\n",
    "list5 = [\"apple\", \"Banana\", \"orange\", \"Apricot\"]\n",
    "list4 = [\"apple\", \"5\", \"Winter\", \"4.0\"]\n",
    "print(list4 + list5)\n",
    "\n",
    "#Using extend() method\n",
    "#list4.extend(list5)\n",
    "#print(list5)\n",
    "\n",
    "#appending each item using for loop\n",
    "for i in list4:\n",
    "  list5.append(i)\n",
    "print(list5)"
   ]
  },
  {
   "cell_type": "code",
   "execution_count": 9,
   "id": "9804ff37",
   "metadata": {},
   "outputs": [
    {
     "name": "stdout",
     "output_type": "stream",
     "text": [
      "k\n",
      "5\n",
      "2\n"
     ]
    }
   ],
   "source": [
    "#Nested List\n",
    "student = [\"Name\" , \"Ali\" , \"Marks\" , [54,89,76,34] , [\"Pass\", \"Fail\"]]\n",
    "print(student[2][3])\n",
    "print(len(student))\n",
    "print(student.index(\"Marks\"))"
   ]
  },
  {
   "cell_type": "code",
   "execution_count": null,
   "id": "d165b294",
   "metadata": {},
   "outputs": [],
   "source": []
  }
 ],
 "metadata": {
  "kernelspec": {
   "display_name": "Python 3 (ipykernel)",
   "language": "python",
   "name": "python3"
  },
  "language_info": {
   "codemirror_mode": {
    "name": "ipython",
    "version": 3
   },
   "file_extension": ".py",
   "mimetype": "text/x-python",
   "name": "python",
   "nbconvert_exporter": "python",
   "pygments_lexer": "ipython3",
   "version": "3.11.4"
  }
 },
 "nbformat": 4,
 "nbformat_minor": 5
}
