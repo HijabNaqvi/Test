{
 "cells": [
  {
   "cell_type": "markdown",
   "id": "01af7396",
   "metadata": {},
   "source": [
    "# **Python Strings**\n",
    "\n",
    "Strings in python are surrounded by either single quotation marks, or double quotation marks.\n",
    "\n",
    "You can display a string literal with the `print()` function"
   ]
  },
  {
   "cell_type": "code",
   "execution_count": 1,
   "id": "74517e9a",
   "metadata": {},
   "outputs": [
    {
     "name": "stdout",
     "output_type": "stream",
     "text": [
      "Python\n",
      "Programming\n"
     ]
    }
   ],
   "source": [
    "\n",
    "x = \"Python\"\n",
    "print(x)\n",
    "y = 'Programming'\n",
    "print(y)\n"
   ]
  },
  {
   "cell_type": "markdown",
   "id": "77467637",
   "metadata": {},
   "source": [
    "# **Multiline Strings**\n",
    "\n",
    "\n",
    "You can assign a multiline string to a variable by using three quotes or three single quotes:\n",
    "\n",
    "The line breaks are inserted at the same position as in the code.\n",
    "\n"
   ]
  },
  {
   "cell_type": "code",
   "execution_count": 2,
   "id": "e775f95e",
   "metadata": {},
   "outputs": [
    {
     "name": "stdout",
     "output_type": "stream",
     "text": [
      "Hello there, I'm learning\n",
      "\"python\" programming language!\n",
      "\n",
      "\n",
      "Now, we are learning about\n",
      "multiline string\n"
     ]
    }
   ],
   "source": [
    "message1 = \"\"\"Hello there, I'm learning\n",
    "\"python\" programming language!\"\"\"\n",
    "print(message1)\n",
    "message2 = '''\n",
    "\n",
    "Now, we are learning about\n",
    "multiline string'''\n",
    "print(message2)"
   ]
  },
  {
   "cell_type": "code",
   "execution_count": 4,
   "id": "8f2f47d4",
   "metadata": {},
   "outputs": [
    {
     "name": "stdout",
     "output_type": "stream",
     "text": [
      "StringConcatenation\n",
      "String Concatenation\n"
     ]
    }
   ],
   "source": [
    "# String Concatenation\n",
    "x = \"String\"\n",
    "y = \"Concatenation\"\n",
    "print(x + y)\n",
    "z = x + \" \" + y  #z = StringConcatenation\n",
    "\n",
    "print(z)"
   ]
  },
  {
   "cell_type": "markdown",
   "id": "11a22f50",
   "metadata": {},
   "source": [
    "# **Strings are Arrays:**\n",
    "\n",
    "Like many other popular programming languages, strings in Python are arrays of bytes representing unicode characters.\n",
    "\n",
    "However, Python does not have a character data type, a single character is simply a string with a length of 1.\n",
    "\n",
    "Square brackets can be used to access elements of the string."
   ]
  },
  {
   "cell_type": "code",
   "execution_count": 5,
   "id": "cdd30322",
   "metadata": {},
   "outputs": [
    {
     "name": "stdout",
     "output_type": "stream",
     "text": [
      "1557089665904\n",
      "140736598065376\n"
     ]
    }
   ],
   "source": [
    "x = \"Enter\"\n",
    "print(id(x))\n",
    "print(id(x[0]))"
   ]
  },
  {
   "cell_type": "code",
   "execution_count": 6,
   "id": "065d37da",
   "metadata": {},
   "outputs": [
    {
     "name": "stdout",
     "output_type": "stream",
     "text": [
      "t\n",
      "27\n"
     ]
    }
   ],
   "source": [
    "string = \"Python Programming Language\"\n",
    "print(string[2])\n",
    "print(len(string))\n",
    "#x = len(string)\n",
    "#print(x)\n"
   ]
  },
  {
   "cell_type": "code",
   "execution_count": 7,
   "id": "5e93d211",
   "metadata": {},
   "outputs": [
    {
     "name": "stdout",
     "output_type": "stream",
     "text": [
      "0\n",
      "1\n"
     ]
    }
   ],
   "source": [
    "# String Index\n",
    "string = \"Python Programming\"\n",
    "print(string.index(\"P\"))\n",
    "index = string.index(\"y\")\n",
    "print(index)"
   ]
  },
  {
   "cell_type": "code",
   "execution_count": 8,
   "id": "3612144d",
   "metadata": {},
   "outputs": [
    {
     "name": "stdout",
     "output_type": "stream",
     "text": [
      "1\n",
      "1\n",
      "1\n",
      "1\n",
      "1\n",
      "1\n",
      "6\n"
     ]
    }
   ],
   "source": [
    "#Looping through a String\n",
    "#for x in \"hello+\":\n",
    " # print(x)\n",
    "for x in \"Python\":\n",
    "   print(\"1\")\n",
    "x= \"Python\"\n",
    "print(len(x))"
   ]
  },
  {
   "cell_type": "code",
   "execution_count": 9,
   "id": "66bc8f11",
   "metadata": {},
   "outputs": [],
   "source": [
    "# Membership operator in string\n",
    "x = \"How to use membership operator\"\n",
    "print(\"on\" not in x)\n",
    "\n",
    "print(\"Yes\" not in \"Python\")"
   ]
  },
  {
   "cell_type": "code",
   "execution_count": 10,
   "id": "f67597f6",
   "metadata": {},
   "outputs": [
    {
     "name": "stdout",
     "output_type": "stream",
     "text": [
      "11\n",
      "l\n",
      "o\n",
      "Hl\n",
      "lo hamna\n",
      "llo hamna\n"
     ]
    }
   ],
   "source": [
    "# String Slicing\n",
    "string = \"Hello hamna\"\n",
    "print(len(string))\n",
    "\n",
    "print(string[2])\n",
    "print(string[4])\n",
    "print(string[0:3:2]) # skip the 2 index\n",
    "# start : end not vailable default last : step\n",
    "print(string[3::1]) # start at 3 index\n",
    "# start : 1 : 1\n",
    "print(string[2::]) # skip first 2 character"
   ]
  },
  {
   "cell_type": "code",
   "execution_count": null,
   "id": "0b0c8c74",
   "metadata": {},
   "outputs": [],
   "source": []
  }
 ],
 "metadata": {
  "kernelspec": {
   "display_name": "Python 3 (ipykernel)",
   "language": "python",
   "name": "python3"
  },
  "language_info": {
   "codemirror_mode": {
    "name": "ipython",
    "version": 3
   },
   "file_extension": ".py",
   "mimetype": "text/x-python",
   "name": "python",
   "nbconvert_exporter": "python",
   "pygments_lexer": "ipython3",
   "version": "3.11.4"
  }
 },
 "nbformat": 4,
 "nbformat_minor": 5
}
