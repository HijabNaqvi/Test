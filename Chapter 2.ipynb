{
 "cells": [
  {
   "cell_type": "markdown",
   "id": "1e4f7b7f",
   "metadata": {},
   "source": [
    "# Python Syntax"
   ]
  },
  {
   "cell_type": "code",
   "execution_count": 1,
   "id": "31d4e3ce",
   "metadata": {},
   "outputs": [
    {
     "name": "stdout",
     "output_type": "stream",
     "text": [
      "Hello World\n",
      "Hello World!\n"
     ]
    }
   ],
   "source": [
    "print(\"Hello World\")\n",
    "x = \"Hello World!\"\n",
    "print(x)"
   ]
  },
  {
   "cell_type": "markdown",
   "id": "822c5f92",
   "metadata": {},
   "source": [
    "# Comment\n",
    "Comments can be used to explain Python code.\n",
    "\n",
    "Comments can be used to make the code more readable.\n",
    "\n",
    "Comments can be used to prevent execution when testing code.\n",
    "\n",
    "\n",
    "2 types of comments in Python:\n",
    "\n",
    "\n",
    "*   Single line comment\n",
    "*   Multi-line comment\n",
    "\n"
   ]
  },
  {
   "cell_type": "markdown",
   "id": "113b1193",
   "metadata": {},
   "source": [
    "# Python Variables\n",
    "Variables are containers for storing data values.\n",
    "\n",
    "Python has no command for declaring a variable. There is no need to write the data type of a variable before it.\n",
    "\n",
    "A variable is created the moment you first assign a value to it. After Variable name  = sign  mean assigning the value to that variable."
   ]
  },
  {
   "cell_type": "code",
   "execution_count": 2,
   "id": "fb7fd70c",
   "metadata": {
    "scrolled": true
   },
   "outputs": [
    {
     "name": "stdout",
     "output_type": "stream",
     "text": [
      "x\n",
      "10.3\n",
      "5 10.3\n"
     ]
    }
   ],
   "source": [
    "x = 5\n",
    "y = 10.3\n",
    "print('x')\n",
    "print(y)\n",
    "print(x,y)"
   ]
  },
  {
   "cell_type": "markdown",
   "id": "abc1da02",
   "metadata": {},
   "source": [
    "## Rules for assigning name to variable\n",
    "\n",
    "\n",
    "\n",
    "*   A variable name must start with a letter or the underscore character and there must be no white space in a variable name\n",
    "*   A variable name cannot start with a number\n",
    "\n",
    "\n",
    "*   A variable name can only contain alpha-numeric characters and underscores (A-z, 0-9, and _ ). No special characters are allowed i.e. @icode , Python$ are the invalid variables.\n",
    "*   Variable names are case-sensitive (age, Age and AGE are three different variables)\n"
   ]
  },
  {
   "cell_type": "code",
   "execution_count": 3,
   "id": "3a22e990",
   "metadata": {},
   "outputs": [
    {
     "name": "stdout",
     "output_type": "stream",
     "text": [
      "88.5\n"
     ]
    }
   ],
   "source": [
    "\n",
    "_myVar5 = \"iCodeGuru\"\n",
    "myVariableName = 95\n",
    "MyVariableName = 'Pakistan'\n",
    "myVariableName = 88.5\n",
    "print(myVariableName)"
   ]
  },
  {
   "cell_type": "markdown",
   "id": "c8eff605",
   "metadata": {},
   "source": [
    "## Types of variable name cases\n",
    "Camel Case --> whose first word of variable is lower and second word is Upper case.\n",
    "\n",
    "Snake Case --> whose all letter are lower case.\n",
    "\n",
    "Pascal Case --> who first and second letter words letter are upper case."
   ]
  },
  {
   "cell_type": "code",
   "execution_count": 4,
   "id": "7268caf0",
   "metadata": {},
   "outputs": [
    {
     "name": "stdout",
     "output_type": "stream",
     "text": [
      "5.9\n",
      "200\n"
     ]
    }
   ],
   "source": [
    "\n",
    "camelCaseThird = '100'\n",
    "snake_case = 5.9\n",
    "PascalCase = \"Python\"\n",
    "print(snake_case)\n",
    "universitYLife = '200'\n",
    "print(universitYLife)"
   ]
  },
  {
   "cell_type": "markdown",
   "id": "b87a12e4",
   "metadata": {},
   "source": [
    "# Data Types\n",
    "Following are some built-in data types in Python:\n",
    "\n",
    "\n",
    "*   Text Type:  `str` -->  \" \"\n",
    "*   Numeric Types:  `int`, `float`  -->  123, 12.3\n",
    "*   Sequence Types: `list`, `tuple`  -->  [ ]\n",
    "*   Mapping Type: `dict`  -->  {}\n",
    "*   Set Type: `set` -->  {[ ]}\n",
    "*   Boolean Type: `bool`  -->  TRUE and FALSE"
   ]
  },
  {
   "cell_type": "markdown",
   "id": "48bedc52",
   "metadata": {},
   "source": [
    "**Getting the Data type**\n",
    "\n",
    "You can get the data type of any object by using the **type()** function:\n",
    "\n"
   ]
  },
  {
   "cell_type": "code",
   "execution_count": 5,
   "id": "cc6bf1a8",
   "metadata": {},
   "outputs": [
    {
     "name": "stdout",
     "output_type": "stream",
     "text": [
      "<class 'bool'>\n"
     ]
    }
   ],
   "source": [
    "a = True\n",
    "print(type(a))"
   ]
  },
  {
   "cell_type": "markdown",
   "id": "7b2c9f99",
   "metadata": {},
   "source": [
    "# Type Casting in Python\n",
    "We can change the data type of a variable or a value.Python support a variety of funcions or methods like:int(),float(),str(),tuple(),list(),dict() etc for the type casting in python.\n",
    "*   Implicit Typecasting\n",
    "*   Explicit Typecasting\n"
   ]
  },
  {
   "cell_type": "code",
   "execution_count": 7,
   "id": "8022f7d4",
   "metadata": {},
   "outputs": [
    {
     "name": "stdout",
     "output_type": "stream",
     "text": [
      "77\n",
      "<class 'int'>\n"
     ]
    }
   ],
   "source": [
    "# Converting float into integer\n",
    "float_x = 77.4\n",
    "int_x = int(float_x)\n",
    "print(int_x)\n",
    "print(type(int_x))"
   ]
  },
  {
   "cell_type": "markdown",
   "id": "e7f346f6",
   "metadata": {},
   "source": [
    "# Taking Input from User\n",
    "\n",
    "We use `input()` function to take input from the user. But it's default type will be string. So, we can also use type casting if we want to perform arithmetic operations on that user's input."
   ]
  },
  {
   "cell_type": "code",
   "execution_count": 9,
   "id": "fb7238d3",
   "metadata": {},
   "outputs": [
    {
     "name": "stdout",
     "output_type": "stream",
     "text": [
      "Your name? hijab\n",
      "WELCOME  hijab\n",
      "Your age? 99\n",
      "You're eligible.\n"
     ]
    }
   ],
   "source": [
    "name = input(\"Your name? \")\n",
    "print(\"WELCOME \", name)\n",
    "age = int(input(\"Your age? \"))\n",
    "if age >= 18:\n",
    "    print(\"You're eligible.\")\n",
    "else: \n",
    "    print(\"Sorry, we can't accomodate minors.\")"
   ]
  },
  {
   "cell_type": "markdown",
   "id": "e28a6192",
   "metadata": {},
   "source": [
    "# Exercise\n",
    "\n",
    "Write a program to prompt the user for hours and rate per hours to compute gross pay."
   ]
  },
  {
   "cell_type": "code",
   "execution_count": null,
   "id": "fbbc9574",
   "metadata": {},
   "outputs": [],
   "source": [
    "hours = float(input(\"Enter hours \"))\n",
    "rate = float(input(\"Enter rate \"))\n",
    "pay = hours*rate\n",
    "print(f\"Your gross pay is {pay}.\")"
   ]
  }
 ],
 "metadata": {
  "kernelspec": {
   "display_name": "Python 3 (ipykernel)",
   "language": "python",
   "name": "python3"
  },
  "language_info": {
   "codemirror_mode": {
    "name": "ipython",
    "version": 3
   },
   "file_extension": ".py",
   "mimetype": "text/x-python",
   "name": "python",
   "nbconvert_exporter": "python",
   "pygments_lexer": "ipython3",
   "version": "3.11.4"
  }
 },
 "nbformat": 4,
 "nbformat_minor": 5
}
