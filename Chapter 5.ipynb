{
 "cells": [
  {
   "cell_type": "markdown",
   "id": "88c42a4a",
   "metadata": {},
   "source": [
    "# **Loops:**\n",
    "\n",
    "If we want to perform few steps of a program repeatedly, we will use loops instead of writing these lines each time.\n",
    "\n",
    "Loops make the program more efficient.\n",
    "\n",
    "In python, no braces are used to separate a block of statemments from the whole program. On the other hand, proper indentations are used for this purpose.\n",
    "\n",
    "Two types of loops are used in python.\n",
    "\n",
    "\n",
    "*   For loop\n",
    "*   while loop\n",
    "\n"
   ]
  },
  {
   "cell_type": "markdown",
   "id": "18487749",
   "metadata": {},
   "source": [
    "# **While Loop**\n",
    "\n",
    "With the `while` loop we can execute a set of statements as long as a condition is true."
   ]
  },
  {
   "cell_type": "code",
   "execution_count": 3,
   "id": "35b73e09",
   "metadata": {},
   "outputs": [
    {
     "name": "stdout",
     "output_type": "stream",
     "text": [
      "1\n",
      "2\n",
      "4\n",
      "Done\n"
     ]
    }
   ],
   "source": [
    "i = 1\n",
    "while i<=5:\n",
    "   print(i)\n",
    "   i *= 2   #i = i * 1\n",
    "# it's just a simple print function\n",
    "print(\"Done\")"
   ]
  },
  {
   "cell_type": "code",
   "execution_count": 4,
   "id": "4c1bb95d",
   "metadata": {},
   "outputs": [
    {
     "name": "stdout",
     "output_type": "stream",
     "text": [
      "1\n"
     ]
    }
   ],
   "source": [
    "i = 1\n",
    "while i<6:\n",
    "  print(i)\n",
    "  if i == 3:\n",
    "    print(i==3)\n",
    "  else:\n",
    "    break\n",
    "  i+=1"
   ]
  },
  {
   "cell_type": "code",
   "execution_count": null,
   "id": "3e8c3845",
   "metadata": {},
   "outputs": [
    {
     "name": "stdout",
     "output_type": "stream",
     "text": [
      "1\n",
      "2\n"
     ]
    }
   ],
   "source": [
    "i = 1\n",
    "while i<=6:\n",
    "  if i == 3:\n",
    "    continue\n",
    "  print(i)\n",
    "  i+=1"
   ]
  },
  {
   "cell_type": "code",
   "execution_count": null,
   "id": "56814d16",
   "metadata": {},
   "outputs": [],
   "source": [
    "i = 0\n",
    "secret_number = 5\n",
    "guess_limit = 3\n",
    "while i<guess_limit:\n",
    "  guess = int(input(\"Guess: \"))\n",
    "  if guess == secret_number:\n",
    "    print(\"You won!\")\n",
    "    break\n",
    "  i+=1\n",
    "else:\n",
    "  print(\"limit exceeded\")"
   ]
  },
  {
   "cell_type": "markdown",
   "id": "ed5fb118",
   "metadata": {},
   "source": [
    "# **For Loop**\n",
    "\n",
    "A for loop is used to iterate over a sequence. That sequence can be a string, list, tuple, set or a dictionary.\n",
    "\n",
    "It doesn't require an indexing variable to set beforhead."
   ]
  },
  {
   "cell_type": "code",
   "execution_count": null,
   "id": "ff13fdf0",
   "metadata": {},
   "outputs": [],
   "source": [
    "a_string = \"Let's learn Python.\"\n",
    "for i in a_string:\n",
    "  print(i)"
   ]
  },
  {
   "cell_type": "code",
   "execution_count": null,
   "id": "f6e1fc01",
   "metadata": {},
   "outputs": [],
   "source": [
    "my_list = [\"winter\", \"summer\", \"autumn\", \"fall\", \"rainy season\"]\n",
    "for i in my_list:\n",
    "  #print(i)\n",
    "  if i == \"fall\":\n",
    "    break\n",
    "  print(i)"
   ]
  },
  {
   "cell_type": "code",
   "execution_count": null,
   "id": "095933d8",
   "metadata": {},
   "outputs": [],
   "source": [
    "my_list = [\"winter\", \"summer\", \"autumn\", \"fall\", \"rainy season\"]\n",
    "for i in my_list:\n",
    "  if i == \"fall\":\n",
    "    continue\n",
    "  print(i)  # --> can it shows fall?\n"
   ]
  },
  {
   "cell_type": "code",
   "execution_count": null,
   "id": "ca088763",
   "metadata": {},
   "outputs": [],
   "source": [
    "# write a program to show counting from 0 to 10\n",
    "for i in range(11):\n",
    "  print(i)"
   ]
  },
  {
   "cell_type": "code",
   "execution_count": null,
   "id": "a2affe7c",
   "metadata": {},
   "outputs": [],
   "source": [
    "nums = [0,1,2,3,4,5,6,7]\n",
    "for i in range(len(nums)):\n",
    "  print(i)\n",
    "else:\n",
    "  print(\"The loop is terminated\")"
   ]
  },
  {
   "cell_type": "markdown",
   "id": "d82e4232",
   "metadata": {},
   "source": [
    "# **Nested Loop**\n",
    "\n",
    "A nested loop is a loop inside a loop.\n",
    "\n",
    "The \"inner loop\" will be executed one time **for each iteration of the \"outer loop**\"."
   ]
  },
  {
   "cell_type": "code",
   "execution_count": null,
   "id": "8e721df4",
   "metadata": {},
   "outputs": [],
   "source": [
    "for lines in range(1,11):\n",
    "#what should be printed at the end of each\n",
    "    for star in range(1,11):\n",
    "        print(\"*\",end=\" \")\n",
    "    print(\" \")  # as a default new line no end parameter"
   ]
  }
 ],
 "metadata": {
  "kernelspec": {
   "display_name": "Python 3 (ipykernel)",
   "language": "python",
   "name": "python3"
  },
  "language_info": {
   "codemirror_mode": {
    "name": "ipython",
    "version": 3
   },
   "file_extension": ".py",
   "mimetype": "text/x-python",
   "name": "python",
   "nbconvert_exporter": "python",
   "pygments_lexer": "ipython3",
   "version": "3.11.4"
  }
 },
 "nbformat": 4,
 "nbformat_minor": 5
}
