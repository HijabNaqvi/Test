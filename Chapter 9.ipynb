{
 "cells": [
  {
   "cell_type": "markdown",
   "id": "4bb87b0c",
   "metadata": {},
   "source": [
    "# **Dictionaries**\n",
    "\n",
    "Dictionaries are used to store data values in key:value pairs.\n",
    "\n",
    "Dictionary items are ordered, changable, and do not allow duplicates.\n",
    "\n",
    "Dictionaries are written with curly brackets, and have keys and values.\n",
    "\n"
   ]
  },
  {
   "cell_type": "code",
   "execution_count": 1,
   "id": "1bc68eaf",
   "metadata": {},
   "outputs": [
    {
     "name": "stdout",
     "output_type": "stream",
     "text": [
      "{1: 'Ali', 'age': 21, (0, 1): 'Pakistan', 'city': 'Faisalabad'}\n"
     ]
    }
   ],
   "source": [
    "dict1 = { 1 : \"Ali\",\n",
    "         \"age\" : 21,\n",
    "         (0,1) : \"Pakistan\",\n",
    "         \"city\" : \"Faisalabad\"}\n",
    "print(dict1)"
   ]
  },
  {
   "cell_type": "code",
   "execution_count": 2,
   "id": "bec9b727",
   "metadata": {},
   "outputs": [
    {
     "name": "stdout",
     "output_type": "stream",
     "text": [
      "21\n"
     ]
    }
   ],
   "source": [
    "dict1 = {\"name\" : \"Ali\",\n",
    "         \"age\" : 21,\n",
    "         \"country\" : \"Pakistan\",\n",
    "         \"city\" : \"Faisalabad\"}\n",
    "# print(dict1)\n",
    "print(dict1[\"age\"])"
   ]
  },
  {
   "cell_type": "code",
   "execution_count": 3,
   "id": "ad92b1b5",
   "metadata": {},
   "outputs": [
    {
     "name": "stdout",
     "output_type": "stream",
     "text": [
      "{'name': 'Ali', 21: 21, 'country': 'Pakistan', 'city': 'Faisalabad', 'status': 'employed'}\n"
     ]
    }
   ],
   "source": [
    "dict2 = {\"name\" : \"Ali\",\n",
    "          21 : 21,\n",
    "         \"country\" : \"Pakistan\",\n",
    "         \"city\" : \"Faisalabad\",\n",
    "        }\n",
    "dict2[\"status\"] = \"employed\"\n",
    "print(dict2)"
   ]
  },
  {
   "cell_type": "code",
   "execution_count": 4,
   "id": "8fbecfe2",
   "metadata": {},
   "outputs": [
    {
     "name": "stdout",
     "output_type": "stream",
     "text": [
      "{'name': 'Ali', 'age': 21, 'country': 'Pakistan', 'city': 'Lahore'}\n"
     ]
    }
   ],
   "source": [
    "dict2 = {\"name\" : \"Ali\",\n",
    "         \"age\" : 21,\n",
    "         \"country\" : \"Pakistan\",\n",
    "         \"city\" : \"Faisalabad\",\n",
    "        }\n",
    "dict2[\"city\"] = \"Lahore\"\n",
    "#dict2[21] = \"Hello\"\n",
    "print(dict2)"
   ]
  },
  {
   "cell_type": "code",
   "execution_count": 5,
   "id": "c37c5802",
   "metadata": {},
   "outputs": [
    {
     "name": "stdout",
     "output_type": "stream",
     "text": [
      "name Ali\n",
      "age 21\n",
      "country Pakistan\n",
      "city Faisalabad\n"
     ]
    }
   ],
   "source": [
    "dict2 = {\"name\" : \"Ali\",\n",
    "         \"age\" : 21,\n",
    "         \"country\" : \"Pakistan\",\n",
    "         \"city\" : \"Faisalabad\",\n",
    "        }\n",
    "# print(dict2[\"age\"])\n",
    "for i in dict2:\n",
    "  print(i , dict2[i])\n",
    "\n",
    "\n"
   ]
  },
  {
   "cell_type": "code",
   "execution_count": 6,
   "id": "b1a44d58",
   "metadata": {},
   "outputs": [
    {
     "name": "stdout",
     "output_type": "stream",
     "text": [
      "Faisalabad\n",
      "{'status': 'employed', 'profession': 'Teaching'}\n"
     ]
    }
   ],
   "source": [
    "dict2 = {\"name\" : \"Ali\",\n",
    "         \"age\" : 21,\n",
    "         \"country\" : \"Pakistan\",\n",
    "         \"city\" : \"Faisalabad\",\n",
    "          \"dict3\" : {\"status\" : \"employed\",\"profession\" : \"Teaching\"},\n",
    "        }\n",
    "print(dict2[\"city\"])\n",
    "\n",
    "print(dict2[\"dict3\"])"
   ]
  },
  {
   "cell_type": "markdown",
   "id": "47a0d3a8",
   "metadata": {},
   "source": [
    "# **Dictionary Methods:**\n",
    "\n",
    "\n",
    "* **clear()**\n",
    "It is used to clear data from a dictionary.\n",
    "*  **keys()**\n",
    "It is used to get a list of all the keys present in a dictionary.\n",
    "*   **values()**\n",
    "It is used to get a list of all the values present in a dictionary.\n",
    "*   **item()**\n",
    "It is used to get all the elements of a dictionary.\n",
    "*   **get()**\n",
    "It is used to get specified keys' value from a dictionary.\n",
    "\n",
    "\n",
    "\n",
    "\n"
   ]
  },
  {
   "cell_type": "code",
   "execution_count": null,
   "id": "baaa636b",
   "metadata": {},
   "outputs": [],
   "source": [
    "dict2 = {\"name\" : \"Ali\",\n",
    "         \"age\" : 21,\n",
    "         \"country\" : \"Pakistan\",\n",
    "         \"city\" : \"Faisalabad\",\n",
    "        }\n",
    "dict3 = {\n",
    "    1 : \"Python\",\n",
    "    2 : \"C++\",\n",
    "    3 : \"Java\",\n",
    "    4: \"Ruby\",\n",
    "    5 : \"C\",\n",
    "}\n",
    "dict3.update(dict2)\n",
    "print(dict3)\n",
    "# print(a)"
   ]
  }
 ],
 "metadata": {
  "kernelspec": {
   "display_name": "Python 3 (ipykernel)",
   "language": "python",
   "name": "python3"
  },
  "language_info": {
   "codemirror_mode": {
    "name": "ipython",
    "version": 3
   },
   "file_extension": ".py",
   "mimetype": "text/x-python",
   "name": "python",
   "nbconvert_exporter": "python",
   "pygments_lexer": "ipython3",
   "version": "3.11.4"
  }
 },
 "nbformat": 4,
 "nbformat_minor": 5
}
